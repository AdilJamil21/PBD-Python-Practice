{
 "cells": [
  {
   "cell_type": "markdown",
   "id": "3c5cce8d",
   "metadata": {},
   "source": [
    "# QUESTION 1 "
   ]
  },
  {
   "cell_type": "code",
   "execution_count": 2,
   "id": "fe834d50",
   "metadata": {},
   "outputs": [
    {
     "name": "stdout",
     "output_type": "stream",
     "text": [
      "Enter First Number x: \n",
      "5\n",
      "Enter Second Number y: \n",
      "4\n",
      " X is Greater than Y \n",
      "\n"
     ]
    }
   ],
   "source": [
    "x = int(input(\"Enter First Number X: \\n\"))\n",
    "y = int(input(\"Enter Second Number Y: \\n\"))\n",
    "if x<y:\n",
    "    print(\" X is Smaller than Y \\n\")\n",
    "elif x>y:\n",
    "    print(\" X is Greater than Y \\n\")\n",
    "else:\n",
    "    print(\" X is Equal to Y \\n\")"
   ]
  },
  {
   "cell_type": "markdown",
   "id": "ff8bb9f8",
   "metadata": {},
   "source": [
    "# QUESTION 2 "
   ]
  },
  {
   "cell_type": "code",
   "execution_count": 24,
   "id": "16964650",
   "metadata": {},
   "outputs": [
    {
     "name": "stdout",
     "output_type": "stream",
     "text": [
      "Enter Number Within 1-10: \n",
      "9\n",
      "I X\n"
     ]
    }
   ],
   "source": [
    "x = int(input(\"Enter Number Within 1-10: \\n\"))\n",
    "if x == 1:\n",
    "    print(chr(73))\n",
    "elif x == 2:\n",
    "    print(chr(73),chr(73))\n",
    "elif x == 3:\n",
    "    print(chr(73),chr(73),chr(73))\n",
    "elif x == 4:\n",
    "    print(chr(73),chr(86))\n",
    "elif x == 5:\n",
    "    print(chr(86))\n",
    "elif x == 6:\n",
    "    print(chr(86),chr(73))\n",
    "elif x == 7:\n",
    "    print(chr(86),chr(73),chr(73))\n",
    "elif x == 8:\n",
    "    print(chr(86),chr(73),chr(73),chr(73))\n",
    "elif x == 9:\n",
    "    print(chr(73),chr(88))\n",
    "elif x == 10:\n",
    "    print(chr(88))\n",
    "else:\n",
    "    print(\"INVALID INPUT NOT WITHIN 1-10.... \\n\")"
   ]
  },
  {
   "cell_type": "markdown",
   "id": "59cbccce",
   "metadata": {},
   "source": [
    "# QUESTION 3"
   ]
  },
  {
   "cell_type": "code",
   "execution_count": 23,
   "id": "9680e3d5",
   "metadata": {},
   "outputs": [
    {
     "name": "stdout",
     "output_type": "stream",
     "text": [
      "Enter Day \n",
      "10\n",
      "Enter Month \n",
      "6\n",
      "Enter Year in 2 Digit Number Form \n",
      "60\n",
      "Date is Magic!! \n",
      "\n",
      "10 / 6 / 60\n"
     ]
    }
   ],
   "source": [
    "day = int(input(\"Enter Day \\n\"))\n",
    "month = int(input(\"Enter Month \\n\"))\n",
    "year = int(input(\"Enter Year in 2 Digit Number Form \\n\"))\n",
    "\n",
    "if day*month == year:\n",
    "    print(\"\\n Date is Magic!! \\n\")\n",
    "    print(day,\"/\",month,\"/\",year)\n",
    "\n",
    "else:\n",
    "    print(\"\\n Date is Not Magic !! \\n\")"
   ]
  },
  {
   "cell_type": "markdown",
   "id": "db654866",
   "metadata": {},
   "source": [
    "# QUESTION 4"
   ]
  },
  {
   "cell_type": "code",
   "execution_count": 28,
   "id": "f428b4c2",
   "metadata": {},
   "outputs": [
    {
     "name": "stdout",
     "output_type": "stream",
     "text": [
      "Enter Length of Rectangle 1 \n",
      "2\n",
      "Enter Length of Rectangle 2 \n",
      "2\n",
      "Enter Width of Rectangle 1 \n",
      "2\n",
      "Enter Width of Rectangle 2 \n",
      "2\n",
      "\n",
      " Rectangle 1 Area is Equal To Rectangle 2 \n",
      "\n"
     ]
    }
   ],
   "source": [
    "Area1 = int;\n",
    "Area2 = int;\n",
    "\n",
    "len1 = int(input(\"Enter Length of Rectangle 1 \\n\"))\n",
    "len2 = int(input(\"Enter Length of Rectangle 2 \\n\"))\n",
    "width1 = int(input(\"Enter Width of Rectangle 1 \\n\"))\n",
    "width2 = int(input(\"Enter Width of Rectangle 2 \\n\"))\n",
    "\n",
    "Area1 = len1*width1\n",
    "Area2 = len2*width2\n",
    "\n",
    "if Area1>Area2:\n",
    "    print(\"\\n Rectangle 1 Area is Greater than Rectangle 2 \\n\")\n",
    "    \n",
    "elif Area1<Area2:\n",
    "    print(\"\\n Rectangle 1 Area is Smaller than Rectangle 2 \\n\")\n",
    "\n",
    "else:\n",
    "    print(\"\\n Rectangle 1 Area is Equal To Rectangle 2 \\n\")"
   ]
  },
  {
   "cell_type": "markdown",
   "id": "a56a2f51",
   "metadata": {},
   "source": [
    "# QUESTION 5"
   ]
  },
  {
   "cell_type": "code",
   "execution_count": 36,
   "id": "edd02526",
   "metadata": {},
   "outputs": [
    {
     "name": "stdout",
     "output_type": "stream",
     "text": [
      "Enter Number of Books Purchased this Month: \n",
      "3\n",
      "Points Earned:  30\n"
     ]
    }
   ],
   "source": [
    "x = int(input(\"Enter Number of Books Purchased this Month: \\n\"))\n",
    "\n",
    "if x == 0:\n",
    "    print(\"Points Earned: \", 0)\n",
    "\n",
    "elif x == 1:\n",
    "    print(\"Points Earned: \", 5)\n",
    "\n",
    "elif x == 2:\n",
    "     print(\"Points Earned: \", 15)\n",
    "        \n",
    "elif x == 3:\n",
    "     print(\"Points Earned: \", 30)\n",
    "        \n",
    "elif x >= 4:\n",
    "    print(\"Points Earned: \", 60)"
   ]
  },
  {
   "cell_type": "code",
   "execution_count": null,
   "id": "36c3eead",
   "metadata": {},
   "outputs": [],
   "source": []
  }
 ],
 "metadata": {
  "kernelspec": {
   "display_name": "Python 3 (ipykernel)",
   "language": "python",
   "name": "python3"
  },
  "language_info": {
   "codemirror_mode": {
    "name": "ipython",
    "version": 3
   },
   "file_extension": ".py",
   "mimetype": "text/x-python",
   "name": "python",
   "nbconvert_exporter": "python",
   "pygments_lexer": "ipython3",
   "version": "3.9.7"
  }
 },
 "nbformat": 4,
 "nbformat_minor": 5
}
